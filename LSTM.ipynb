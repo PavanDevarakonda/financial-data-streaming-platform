{
 "cells": [
  {
   "cell_type": "code",
   "execution_count": 1,
   "id": "81f4d084-1fdf-4a65-b271-9c683e6e60dc",
   "metadata": {},
   "outputs": [],
   "source": [
    "import pandas as pd\n",
    "import numpy as np\n",
    "import math\n",
    "from sklearn.metrics import mean_squared_error\n",
    "import matplotlib.pyplot as plt\n",
    "from sklearn.preprocessing import MinMaxScaler\n",
    "from keras.models import Sequential\n",
    "from keras.layers import Dense, Dropout, LSTM"
   ]
  },
  {
   "cell_type": "code",
   "execution_count": 14,
   "id": "f38e6d95-8f65-4105-8209-fa2444ae2183",
   "metadata": {},
   "outputs": [
    {
     "name": "stdout",
     "output_type": "stream",
     "text": [
      "Columns in CSV file: ['Adj Close', 'Close', 'High', 'Low', 'Open', 'Volume']\n",
      "First few rows of the data:\n",
      "                            Adj Close     Close      High       Low      Open  \\\n",
      "Date                                                                           \n",
      "2004-11-24 00:00:00+00:00   4.342022  4.352685  4.413706  4.296645  4.354179   \n",
      "2004-11-26 00:00:00+00:00   4.457057  4.468003  4.483943  4.366633  4.378588   \n",
      "2004-11-29 00:00:00+00:00   4.498301  4.509348  4.556670  4.421178  4.492162   \n",
      "2004-11-30 00:00:00+00:00   4.521408  4.532511  4.557916  4.489423  4.500880   \n",
      "2004-12-01 00:00:00+00:00   4.471220  4.482200  4.545462  4.471988  4.531764   \n",
      "\n",
      "                              Volume  \n",
      "Date                                  \n",
      "2004-11-24 00:00:00+00:00  613531078  \n",
      "2004-11-26 00:00:00+00:00  260175560  \n",
      "2004-11-29 00:00:00+00:00  428263241  \n",
      "2004-11-30 00:00:00+00:00  309154460  \n",
      "2004-12-01 00:00:00+00:00  315743063  \n"
     ]
    }
   ],
   "source": [
    "import pandas as pd\n",
    "\n",
    "def load_google_stock_data(csv_path):\n",
    "    # Skip the first two rows (header and ticker rows)\n",
    "    data = pd.read_csv('Google.csv', skiprows=2)\n",
    "\n",
    "    # Rename columns to match the expected ones\n",
    "    data.columns = ['Date', 'Adj Close', 'Close', 'High', 'Low', 'Open', 'Volume']\n",
    "    \n",
    "    # Remove any leading or trailing spaces from column names\n",
    "    data.columns = data.columns.str.strip()\n",
    "\n",
    "    # Convert 'Date' column to datetime type\n",
    "    data[\"Date\"] = pd.to_datetime(data[\"Date\"])\n",
    "\n",
    "    # Set the 'Date' column as the index\n",
    "    data.set_index(\"Date\", inplace=True)\n",
    "\n",
    "    # Inspect the first few rows to ensure the data looks correct\n",
    "    print(\"Columns in CSV file:\", data.columns.tolist())\n",
    "    print(\"First few rows of the data:\\n\", data.head())\n",
    "    \n",
    "    return data\n",
    "\n",
    "# Load and clean the data\n",
    "google_data = load_google_stock_data('Google.csv')\n"
   ]
  },
  {
   "cell_type": "code",
   "execution_count": 4,
   "id": "fb00fe9d-ec75-4210-9304-5f65268187be",
   "metadata": {},
   "outputs": [],
   "source": [
    "\n",
    "# Split data into training and test sets (80-20 split)\n",
    "dataset_train = google_data.iloc[0:int(0.8*len(google_data)), :]\n",
    "dataset_test = google_data.iloc[int(0.8*len(google_data)):, :]"
   ]
  },
  {
   "cell_type": "code",
   "execution_count": 5,
   "id": "ed946187-c76b-45d3-a731-d933d121637e",
   "metadata": {},
   "outputs": [],
   "source": [
    "\n",
    "# Prepare the 'Close' price column as the target\n",
    "training_set = dataset_train.iloc[:, 1:2].values  # 'Close' is the 2nd column\n",
    "\n",
    "# Feature Scaling\n",
    "sc = MinMaxScaler(feature_range=(0,1))\n",
    "training_set_scaled = sc.fit_transform(training_set)"
   ]
  },
  {
   "cell_type": "code",
   "execution_count": 6,
   "id": "24f63ce2-a355-4868-bab5-c1483fbf68bb",
   "metadata": {},
   "outputs": [],
   "source": [
    "\n",
    "# Create data structure with 7 timesteps for training the model\n",
    "X_train, y_train = [], []\n",
    "for i in range(30, len(training_set_scaled)):\n",
    "    X_train.append(training_set_scaled[i-30:i, 0])\n",
    "    y_train.append(training_set_scaled[i, 0])\n",
    "X_train, y_train = np.array(X_train), np.array(y_train)\n",
    "\n",
    "# Reshape the data for LSTM\n",
    "X_train = np.reshape(X_train, (X_train.shape[0], X_train.shape[1], 1))"
   ]
  },
  {
   "cell_type": "code",
   "execution_count": 7,
   "id": "e0523f02-f71b-4fdc-9d09-9cb6cf031375",
   "metadata": {},
   "outputs": [
    {
     "name": "stderr",
     "output_type": "stream",
     "text": [
      "C:\\Users\\sriva\\AppData\\Roaming\\Python\\Python311\\site-packages\\keras\\src\\layers\\rnn\\rnn.py:204: UserWarning: Do not pass an `input_shape`/`input_dim` argument to a layer. When using Sequential models, prefer using an `Input(shape)` object as the first layer in the model instead.\n",
      "  super().__init__(**kwargs)\n"
     ]
    }
   ],
   "source": [
    "\n",
    "# Build the LSTM model\n",
    "regressor = Sequential()\n",
    "regressor.add(LSTM(units=100, return_sequences=True, input_shape=(X_train.shape[1], 1)))\n",
    "regressor.add(Dropout(0.05))\n",
    "regressor.add(LSTM(units=100, return_sequences=True))\n",
    "regressor.add(Dropout(0.05))\n",
    "regressor.add(LSTM(units=100, return_sequences=True))\n",
    "regressor.add(Dropout(0.05))\n",
    "regressor.add(LSTM(units=100))\n",
    "regressor.add(Dropout(0.05))\n",
    "regressor.add(Dense(units=1))\n"
   ]
  },
  {
   "cell_type": "code",
   "execution_count": 8,
   "id": "4a26e2f5-6edb-4233-bc1f-d8d41e92bd4d",
   "metadata": {},
   "outputs": [
    {
     "name": "stdout",
     "output_type": "stream",
     "text": [
      "Epoch 1/25\n",
      "\u001b[1m125/125\u001b[0m \u001b[32m━━━━━━━━━━━━━━━━━━━━\u001b[0m\u001b[37m\u001b[0m \u001b[1m22s\u001b[0m 72ms/step - loss: 0.0122\n",
      "Epoch 2/25\n",
      "\u001b[1m125/125\u001b[0m \u001b[32m━━━━━━━━━━━━━━━━━━━━\u001b[0m\u001b[37m\u001b[0m \u001b[1m9s\u001b[0m 72ms/step - loss: 8.1084e-04\n",
      "Epoch 3/25\n",
      "\u001b[1m125/125\u001b[0m \u001b[32m━━━━━━━━━━━━━━━━━━━━\u001b[0m\u001b[37m\u001b[0m \u001b[1m9s\u001b[0m 70ms/step - loss: 7.6390e-04\n",
      "Epoch 4/25\n",
      "\u001b[1m125/125\u001b[0m \u001b[32m━━━━━━━━━━━━━━━━━━━━\u001b[0m\u001b[37m\u001b[0m \u001b[1m9s\u001b[0m 71ms/step - loss: 6.8455e-04\n",
      "Epoch 5/25\n",
      "\u001b[1m125/125\u001b[0m \u001b[32m━━━━━━━━━━━━━━━━━━━━\u001b[0m\u001b[37m\u001b[0m \u001b[1m9s\u001b[0m 70ms/step - loss: 5.3405e-04\n",
      "Epoch 6/25\n",
      "\u001b[1m125/125\u001b[0m \u001b[32m━━━━━━━━━━━━━━━━━━━━\u001b[0m\u001b[37m\u001b[0m \u001b[1m9s\u001b[0m 69ms/step - loss: 4.6507e-04\n",
      "Epoch 7/25\n",
      "\u001b[1m125/125\u001b[0m \u001b[32m━━━━━━━━━━━━━━━━━━━━\u001b[0m\u001b[37m\u001b[0m \u001b[1m9s\u001b[0m 69ms/step - loss: 5.2383e-04\n",
      "Epoch 8/25\n",
      "\u001b[1m125/125\u001b[0m \u001b[32m━━━━━━━━━━━━━━━━━━━━\u001b[0m\u001b[37m\u001b[0m \u001b[1m9s\u001b[0m 71ms/step - loss: 4.6091e-04\n",
      "Epoch 9/25\n",
      "\u001b[1m125/125\u001b[0m \u001b[32m━━━━━━━━━━━━━━━━━━━━\u001b[0m\u001b[37m\u001b[0m \u001b[1m9s\u001b[0m 73ms/step - loss: 4.6663e-04\n",
      "Epoch 10/25\n",
      "\u001b[1m125/125\u001b[0m \u001b[32m━━━━━━━━━━━━━━━━━━━━\u001b[0m\u001b[37m\u001b[0m \u001b[1m10s\u001b[0m 78ms/step - loss: 4.0342e-04\n",
      "Epoch 11/25\n",
      "\u001b[1m125/125\u001b[0m \u001b[32m━━━━━━━━━━━━━━━━━━━━\u001b[0m\u001b[37m\u001b[0m \u001b[1m9s\u001b[0m 75ms/step - loss: 6.9959e-04\n",
      "Epoch 12/25\n",
      "\u001b[1m125/125\u001b[0m \u001b[32m━━━━━━━━━━━━━━━━━━━━\u001b[0m\u001b[37m\u001b[0m \u001b[1m9s\u001b[0m 72ms/step - loss: 3.9382e-04\n",
      "Epoch 13/25\n",
      "\u001b[1m125/125\u001b[0m \u001b[32m━━━━━━━━━━━━━━━━━━━━\u001b[0m\u001b[37m\u001b[0m \u001b[1m10s\u001b[0m 76ms/step - loss: 4.9649e-04\n",
      "Epoch 14/25\n",
      "\u001b[1m125/125\u001b[0m \u001b[32m━━━━━━━━━━━━━━━━━━━━\u001b[0m\u001b[37m\u001b[0m \u001b[1m10s\u001b[0m 78ms/step - loss: 3.8163e-04\n",
      "Epoch 15/25\n",
      "\u001b[1m125/125\u001b[0m \u001b[32m━━━━━━━━━━━━━━━━━━━━\u001b[0m\u001b[37m\u001b[0m \u001b[1m10s\u001b[0m 77ms/step - loss: 3.1960e-04\n",
      "Epoch 16/25\n",
      "\u001b[1m125/125\u001b[0m \u001b[32m━━━━━━━━━━━━━━━━━━━━\u001b[0m\u001b[37m\u001b[0m \u001b[1m9s\u001b[0m 71ms/step - loss: 2.7477e-04\n",
      "Epoch 17/25\n",
      "\u001b[1m125/125\u001b[0m \u001b[32m━━━━━━━━━━━━━━━━━━━━\u001b[0m\u001b[37m\u001b[0m \u001b[1m9s\u001b[0m 73ms/step - loss: 3.2634e-04\n",
      "Epoch 18/25\n",
      "\u001b[1m125/125\u001b[0m \u001b[32m━━━━━━━━━━━━━━━━━━━━\u001b[0m\u001b[37m\u001b[0m \u001b[1m9s\u001b[0m 70ms/step - loss: 3.0155e-04\n",
      "Epoch 19/25\n",
      "\u001b[1m125/125\u001b[0m \u001b[32m━━━━━━━━━━━━━━━━━━━━\u001b[0m\u001b[37m\u001b[0m \u001b[1m9s\u001b[0m 70ms/step - loss: 2.4981e-04\n",
      "Epoch 20/25\n",
      "\u001b[1m125/125\u001b[0m \u001b[32m━━━━━━━━━━━━━━━━━━━━\u001b[0m\u001b[37m\u001b[0m \u001b[1m9s\u001b[0m 69ms/step - loss: 4.2248e-04\n",
      "Epoch 21/25\n",
      "\u001b[1m125/125\u001b[0m \u001b[32m━━━━━━━━━━━━━━━━━━━━\u001b[0m\u001b[37m\u001b[0m \u001b[1m9s\u001b[0m 69ms/step - loss: 2.7513e-04\n",
      "Epoch 22/25\n",
      "\u001b[1m125/125\u001b[0m \u001b[32m━━━━━━━━━━━━━━━━━━━━\u001b[0m\u001b[37m\u001b[0m \u001b[1m9s\u001b[0m 72ms/step - loss: 2.6997e-04\n",
      "Epoch 23/25\n",
      "\u001b[1m125/125\u001b[0m \u001b[32m━━━━━━━━━━━━━━━━━━━━\u001b[0m\u001b[37m\u001b[0m \u001b[1m9s\u001b[0m 72ms/step - loss: 2.4567e-04\n",
      "Epoch 24/25\n",
      "\u001b[1m125/125\u001b[0m \u001b[32m━━━━━━━━━━━━━━━━━━━━\u001b[0m\u001b[37m\u001b[0m \u001b[1m9s\u001b[0m 74ms/step - loss: 3.1787e-04\n",
      "Epoch 25/25\n",
      "\u001b[1m125/125\u001b[0m \u001b[32m━━━━━━━━━━━━━━━━━━━━\u001b[0m\u001b[37m\u001b[0m \u001b[1m9s\u001b[0m 73ms/step - loss: 2.3316e-04\n"
     ]
    }
   ],
   "source": [
    "\n",
    "# Compile and train the model\n",
    "regressor.compile(optimizer='adam', loss='mean_squared_error')\n",
    "regressor.fit(X_train, y_train, epochs=25, batch_size=32)\n",
    "\n",
    "# Prepare test data for prediction\n",
    "real_stock_price = dataset_test.iloc[:, 1:2].values"
   ]
  },
  {
   "cell_type": "code",
   "execution_count": 9,
   "id": "6aacf816-6986-478e-83e6-01bea1a42e06",
   "metadata": {},
   "outputs": [],
   "source": [
    "\n",
    "# Combine train and test data for continuity\n",
    "dataset_total = pd.concat((dataset_train['Close'], dataset_test['Close']), axis=0)\n",
    "testing_set = dataset_total[len(dataset_total) - len(dataset_test) - 7:].values\n",
    "testing_set = testing_set.reshape(-1, 1)\n",
    "testing_set = sc.transform(testing_set)"
   ]
  },
  {
   "cell_type": "code",
   "execution_count": 10,
   "id": "74d27751-b1f6-413f-98d2-e297ebbc0158",
   "metadata": {},
   "outputs": [],
   "source": [
    "\n",
    "# Create the X_test data structure\n",
    "X_test = []\n",
    "for i in range(7, len(testing_set)):\n",
    "    X_test.append(testing_set[i-7:i, 0])\n",
    "X_test = np.array(X_test)\n",
    "\n",
    "# Reshape for LSTM\n",
    "X_test = np.reshape(X_test, (X_test.shape[0], X_test.shape[1], 1))"
   ]
  },
  {
   "cell_type": "code",
   "execution_count": 11,
   "id": "473edf3e-79bc-420a-b099-fff85853f20a",
   "metadata": {},
   "outputs": [
    {
     "name": "stdout",
     "output_type": "stream",
     "text": [
      "\u001b[1m32/32\u001b[0m \u001b[32m━━━━━━━━━━━━━━━━━━━━\u001b[0m\u001b[37m\u001b[0m \u001b[1m3s\u001b[0m 51ms/step\n"
     ]
    },
    {
     "data": {
      "image/png": "[encoded data removed]",
      "text/plain": [
       "<Figure size 468x312 with 1 Axes>"
      ]
     },
     "metadata": {},
     "output_type": "display_data"
    }
   ],
   "source": [
    "\n",
    "# Predict the stock prices\n",
    "predicted_stock_price = regressor.predict(X_test)\n",
    "predicted_stock_price = sc.inverse_transform(predicted_stock_price)\n",
    "\n",
    "# Plot results\n",
    "fig = plt.figure(figsize=(7.2, 4.8), dpi=65)\n",
    "plt.plot(real_stock_price, label='Actual Price')\n",
    "plt.plot(predicted_stock_price, label='Predicted Price')\n",
    "plt.legend(loc=4)\n",
    "plt.show()"
   ]
  },
  {
   "cell_type": "code",
   "execution_count": 12,
   "id": "bb58c78d-1e77-459d-92fb-653d30013e2d",
   "metadata": {},
   "outputs": [],
   "source": [
    "\n",
    "# Calculate RMSE\n",
    "error_lstm = math.sqrt(mean_squared_error(real_stock_price, predicted_stock_price))\n",
    "\n",
    "# Forecast the next 5 days (next week’s stock prices)\n",
    "predicted_next_week = []"
   ]
  },
  {
   "cell_type": "code",
   "execution_count": 13,
   "id": "e0be890f-f5e1-4d7b-a75a-74670d82d673",
   "metadata": {},
   "outputs": [
    {
     "name": "stdout",
     "output_type": "stream",
     "text": [
      "\u001b[1m1/1\u001b[0m \u001b[32m━━━━━━━━━━━━━━━━━━━━\u001b[0m\u001b[37m\u001b[0m \u001b[1m1s\u001b[0m 1s/step\n",
      "Day 1: 88.62821960449219\n",
      "##############################################################################\n",
      "Next week's stock price predictions by LSTM:\n",
      "Day 1: 88.62821960449219\n",
      "LSTM RMSE: 6.639186164159252\n",
      "##############################################################################\n"
     ]
    }
   ],
   "source": [
    "\n",
    "# Start with the last 7 days of training data\n",
    "X_forecast = np.array(X_train[-1, 1:])\n",
    "X_forecast = np.append(X_forecast, y_train[-1])\n",
    "X_forecast = np.reshape(X_forecast, (1, X_forecast.shape[0], 1))\n",
    "\n",
    "# Predict for 5 days (next week)\n",
    "for day in range(1):\n",
    "    forecasted_stock_price = regressor.predict(X_forecast)\n",
    "    forecasted_stock_price = sc.inverse_transform(forecasted_stock_price)\n",
    "    \n",
    "    # Print forecasted stock price for each day\n",
    "    print(f\"Day {day + 1}: {forecasted_stock_price[0, 0]}\")\n",
    "    \n",
    "    # Append the forecasted stock price\n",
    "    predicted_next_week.append(forecasted_stock_price[0, 0])\n",
    "    \n",
    "    # Update X_forecast for the next day's prediction\n",
    "    X_forecast = np.append(X_forecast[0][1:], forecasted_stock_price[0, 0])\n",
    "    X_forecast = np.reshape(X_forecast, (1, X_forecast.shape[0], 1))\n",
    "\n",
    "# Print next week's predicted stock prices\n",
    "print(\"##############################################################################\")\n",
    "print(\"Next week's stock price predictions by LSTM:\")\n",
    "for i, price in enumerate(predicted_next_week, 1):\n",
    "    print(f\"Day {i}: {price}\")\n",
    "print(\"LSTM RMSE:\", error_lstm)\n",
    "print(\"##############################################################################\")"
   ]
  },
  {
   "cell_type": "code",
   "execution_count": null,
   "id": "95bd80a5-e04b-4052-874e-794bbe28cc09",
   "metadata": {},
   "outputs": [],
   "source": []
  }
 ],
 "metadata": {
  "kernelspec": {
   "display_name": "Python 3 (ipykernel)",
   "language": "python",
   "name": "python3"
  },
  "language_info": {
   "codemirror_mode": {
    "name": "ipython",
    "version": 3
   },
   "file_extension": ".py",
   "mimetype": "text/x-python",
   "name": "python",
   "nbconvert_exporter": "python",
   "pygments_lexer": "ipython3",
   "version": "3.11.7"
  }
 },
 "nbformat": 4,
 "nbformat_minor": 5
}
